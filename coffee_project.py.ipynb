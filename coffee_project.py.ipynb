{
 "cells": [
  {
   "cell_type": "code",
   "execution_count": 12,
   "metadata": {},
   "outputs": [
    {
     "name": "stdout",
     "output_type": "stream",
     "text": [
      "DO you want a drink:YES\n",
      "choose a drink:latte\n",
      "requirements are present\n",
      "inserted the coins\n",
      "too much money payed .take the change 1.7999999999999998\n",
      "Here is your latte. Enjoy!\n",
      "200\n",
      "100\n",
      "10\n",
      "2.5\n",
      "action is completed\n",
      "turn off the coffee machine if no one  needs coffee\n",
      "Do you want a drinkno\n",
      "exit\n"
     ]
    }
   ],
   "source": [
    "n=input(\"DO you want a drink:\")\n",
    "class coffee():\n",
    "    def __init__(self,water,milk,coffeepowder):\n",
    "        self.water=water\n",
    "        self.milk=milk\n",
    "        self.coffeepowder=coffeepowder\n",
    "    def requirements(self):\n",
    "        if (self.water==200):\n",
    "            if (self.milk==100):\n",
    "                if (self.coffeepowder==10):\n",
    "                    print(\"requirements are present\")\n",
    "                else:\n",
    "                    print(\"Sorry there is not enough coffeepowder\")\n",
    "            else:\n",
    "                print(\"sorry there is not enough milk\")\n",
    "        else:\n",
    "            print(\"sorry  there is not enough water\")\n",
    "    \n",
    "    def coins(self,quarter,dimes,nickels,pennies):\n",
    "        self.quarter=quarter\n",
    "        self.dimes=dimes\n",
    "        self.nickels=nickels\n",
    "        self.pennies=pennies\n",
    "        print(\"inserted the coins\")\n",
    "        if(quarter==0.25 and dimes==0.1 and nickels==0.05 and pennies==0.01):\n",
    "            count=self.quarter+ self.dimes*20+self.nickels+self.pennies*200\n",
    "        else:\n",
    "            print(\"printed the other coins\")\n",
    "        if (count == 2.50):\n",
    "            print(\"sufficient payment ,transaction successfull\")\n",
    "        elif (count > 2.50):\n",
    "                print(\"too much money payed .take the change\",count-2.5)\n",
    "        else:\n",
    "            print(\"Sorry that's not enough money. Money refunded.\")\n",
    "    def report(self,water,milk,coffeepowder,count):\n",
    "        self.count=count\n",
    "        print(self.water)\n",
    "        print(self.milk)\n",
    "        print(self.coffeepowder)\n",
    "        print(self.count)\n",
    "    def turnoff(self,turnoff):\n",
    "        self.turnoff=turnoff\n",
    "        print(\"turn off the coffee machine if no one  needs coffee\")\n",
    "while(n==\"yes\" or n==\"YES\"):\n",
    "    drink=input(\"choose a drink:\")\n",
    "    obj=coffee(200,100,10)\n",
    "    obj.requirements()\n",
    "    obj.coins(0.25,0.1,0.05,0.01)\n",
    "    print( \"Here is your latte. Enjoy!\")\n",
    "    obj.report(200,100,10,2.50)\n",
    "    print(\"action is completed\")\n",
    "    obj.turnoff(\"off\")\n",
    "    n=input(\"Do you want a drink\")\n",
    "    if (n==\"no\" or n==\"NO\"):\n",
    "        print(\"exit\")\n",
    "        break"
   ]
  },
  {
   "cell_type": "code",
   "execution_count": null,
   "metadata": {},
   "outputs": [],
   "source": []
  }
 ],
 "metadata": {
  "kernelspec": {
   "display_name": "Python 3",
   "language": "python",
   "name": "python3"
  },
  "language_info": {
   "codemirror_mode": {
    "name": "ipython",
    "version": 3
   },
   "file_extension": ".py",
   "mimetype": "text/x-python",
   "name": "python",
   "nbconvert_exporter": "python",
   "pygments_lexer": "ipython3",
   "version": "3.8.3"
  }
 },
 "nbformat": 4,
 "nbformat_minor": 4
}
